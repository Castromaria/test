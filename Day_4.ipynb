{
 "cells": [
  {
   "cell_type": "code",
   "execution_count": 2,
   "id": "4b22bce7-654c-406b-a261-b467f07cdaf4",
   "metadata": {},
   "outputs": [],
   "source": [
    "from IPython.core.interactiveshell import InteractiveShell\n",
    "InteractiveShell.ast_node_interactivity = \"all\""
   ]
  },
  {
   "cell_type": "markdown",
   "id": "418941ac-16e2-4a66-8efe-3960fcc0a4a9",
   "metadata": {},
   "source": [
    "## Arithematic Operators"
   ]
  },
  {
   "cell_type": "code",
   "execution_count": 15,
   "id": "9e2013d0-c0ee-497f-b350-91948865fcfb",
   "metadata": {},
   "outputs": [
    {
     "data": {
      "text/plain": [
       "11"
      ]
     },
     "execution_count": 15,
     "metadata": {},
     "output_type": "execute_result"
    },
    {
     "data": {
      "text/plain": [
       "7"
      ]
     },
     "execution_count": 15,
     "metadata": {},
     "output_type": "execute_result"
    },
    {
     "data": {
      "text/plain": [
       "18"
      ]
     },
     "execution_count": 15,
     "metadata": {},
     "output_type": "execute_result"
    },
    {
     "data": {
      "text/plain": [
       "4.5"
      ]
     },
     "execution_count": 15,
     "metadata": {},
     "output_type": "execute_result"
    },
    {
     "data": {
      "text/plain": [
       "4"
      ]
     },
     "execution_count": 15,
     "metadata": {},
     "output_type": "execute_result"
    },
    {
     "data": {
      "text/plain": [
       "1"
      ]
     },
     "execution_count": 15,
     "metadata": {},
     "output_type": "execute_result"
    },
    {
     "data": {
      "text/plain": [
       "81"
      ]
     },
     "execution_count": 15,
     "metadata": {},
     "output_type": "execute_result"
    },
    {
     "data": {
      "text/plain": [
       "81"
      ]
     },
     "execution_count": 15,
     "metadata": {},
     "output_type": "execute_result"
    }
   ],
   "source": [
    "9 + 2\n",
    "9 - 2\n",
    "9 * 2\n",
    "9 / 2 # quotient - float\n",
    "9 // 2 # quotient - int division\n",
    "9 % 2 # remainder\n",
    "9 ** 2 # pow(9,2)\n",
    "pow(9,2)"
   ]
  },
  {
   "cell_type": "markdown",
   "id": "e2b6f04e-43c4-4d82-a4d8-c95c0a0eb252",
   "metadata": {},
   "source": [
    "## UC-1: Take 3 numbers and print the sum"
   ]
  },
  {
   "cell_type": "code",
   "execution_count": 8,
   "id": "a8663178-54e4-4cae-a9f9-36b79987cb07",
   "metadata": {},
   "outputs": [
    {
     "name": "stdout",
     "output_type": "stream",
     "text": [
      "3 4 5\n"
     ]
    }
   ],
   "source": [
    "# Task: Take 3 numbers and print the sum\n",
    "num1 = 3\n",
    "num2 = 4\n",
    "num3 = 5\n",
    "\n",
    "print(num1, num2, num3) # input"
   ]
  },
  {
   "cell_type": "code",
   "execution_count": 17,
   "id": "059caacf-7f69-4dd5-b5da-92c99a49945d",
   "metadata": {},
   "outputs": [
    {
     "name": "stdout",
     "output_type": "stream",
     "text": [
      "The TOTAL is : 12\n"
     ]
    }
   ],
   "source": [
    "total = num1 + num2 + num3\n",
    "print(\"The TOTAL is :\", total)"
   ]
  },
  {
   "cell_type": "markdown",
   "id": "a55b00bb-3f68-47a1-a099-95c91d739d48",
   "metadata": {},
   "source": [
    "#### Formatting in print\n",
    "- https://docs.python.org/2/library/stdtypes.html#str.format"
   ]
  },
  {
   "cell_type": "code",
   "execution_count": 38,
   "id": "16417ab1-e347-48c6-b177-d7699ae7d785",
   "metadata": {},
   "outputs": [
    {
     "data": {
      "text/plain": [
       "'The TOTAL for 3 4 5 is : 12'"
      ]
     },
     "execution_count": 38,
     "metadata": {},
     "output_type": "execute_result"
    }
   ],
   "source": [
    "# print(\"The TOTAL for 3 4 5 is : 12\") # hard-coding, stubbing, fixed values in print\n",
    "# print(\"The TOTAL for 3 4 5 is : 12\")\n",
    "# \"The TOTAL for {} {} {} is : {}\".format(num1, num2, num3, total) #Python-2 style\n",
    "# print(\"The TOTAL for {0} {1} {2} is : {3}\".format(num1, num2, num3, total) )#Python-2 style\n",
    "\n",
    "# python-3\n",
    "print(   f\"The TOTAL for {num1} {num2} {num3} is : {total}\"  )"
   ]
  },
  {
   "cell_type": "markdown",
   "id": "49885a2b-5060-45d5-9938-e2fb85cb5cd3",
   "metadata": {},
   "source": [
    "## Put all the code together - from previous cells"
   ]
  },
  {
   "cell_type": "code",
   "execution_count": 50,
   "id": "ac6a2f9e-22ad-48ca-b318-178147dbb9e1",
   "metadata": {},
   "outputs": [
    {
     "name": "stdout",
     "output_type": "stream",
     "text": [
      "The TOTAL for 3 4 5 is : 12\n"
     ]
    }
   ],
   "source": [
    "# Implementation-1 (Static- hardcoded - fixed testing)\n",
    "#step-1: take input\n",
    "num1 = 3\n",
    "num2 = 4\n",
    "num3 = 5\n",
    "\n",
    "#step-2: DO ETL - computing/process\n",
    "total = num1 + num2 + num3\n",
    "\n",
    "#step-3 : See/write the ouput\n",
    "print(   f\"The TOTAL for {num1} {num2} {num3} is : {total}\"  )"
   ]
  },
  {
   "cell_type": "markdown",
   "id": "54e41ce0",
   "metadata": {},
   "source": [
    "# Implementation-2 (Dynamic - runtime)\n",
    "#step-1: take input\n",
    "num1 = input(\"Enter the first number\")\n",
    "num1 = int(num1)\n",
    "\n",
    "num2 = input(\"Enter the second number\")\n",
    "num2 = int(num2)\n",
    "\n",
    "num3 = input(\"Enter the second number\")\n",
    "num3 = int(num3)\n",
    "\n",
    "#step-2: DO ETL - computing/process\n",
    "total = num1 + num2 + num3\n",
    "\n",
    "#step-3 : See/write the ouput\n",
    "print(   f\"The TOTAL for {num1} {num2} {num3} is : {total}\"  )"
   ]
  },
  {
   "cell_type": "code",
   "execution_count": 1,
   "id": "eb898fdb-0f34-45b9-a9ca-a39f22d007e6",
   "metadata": {},
   "outputs": [],
   "source": [
    "#HW-1: Take 2 numbers and swap the two numbers. Note: input is dynamic.\n",
    "#HW-2: Take 2 numbers and find the biggest of two numbers. Note: input is dynamic.\n",
    "#HW-3: Take 2 numbers and print the sum, quo, int_quo, remainder, power. Note: input is dynamic."
   ]
  },
  {
   "cell_type": "code",
   "execution_count": 1,
   "id": "26be7112",
   "metadata": {},
   "outputs": [
    {
     "name": "stdout",
     "output_type": "stream",
     "text": [
      "Enter the first number: 9\n",
      "Enter the second number: 6\n",
      "Original numbers: num1 = 9, num2 = 6\n",
      "After swapping numbers: num1 = 6, num2 = 9\n"
     ]
    }
   ],
   "source": [
    "#HW-1: Take 2 numbers and swap the two numbers. Note: input is dynamic\n",
    "num1 = input(\"Enter the first number: \")\n",
    "num1 = int(num1)\n",
    "\n",
    "num2 = input(\"Enter the second number: \")\n",
    "num2 = int(num2)\n",
    "\n",
    "print(f\"Original numbers: num1 = {num1}, num2 = {num2}\")\n",
    "    \n",
    "    # Swapping the numbers\n",
    "num1, num2 = num2, num1\n",
    "    \n",
    "    # Display swapped numbers\n",
    "print(f\"After swapping numbers: num1 = {num1}, num2 = {num2}\")"
   ]
  },
  {
   "cell_type": "code",
   "execution_count": 2,
   "id": "97c35f18",
   "metadata": {},
   "outputs": [
    {
     "name": "stdout",
     "output_type": "stream",
     "text": [
      "Enter the first number: 6\n",
      "Enter the second number: 5\n",
      "The largest number is 6.\n"
     ]
    }
   ],
   "source": [
    "#HW-2: Take 2 numbers and find the biggest of two numbers. Note: input is dynamic.\n",
    "\n",
    "num3 = input(\"Enter the first number: \")\n",
    "num3 = int(num3)\n",
    "\n",
    "num4 = input(\"Enter the second number: \")\n",
    "num4 = int(num4)\n",
    "\n",
    "if num3 > num4:\n",
    "        print(f\"The largest number is {num3}.\")\n",
    "else: \n",
    "        print(f\"The largest number is {num4}.\")\n",
    "    \n",
    "    ##missing else: print(f\"both are equal\")"
   ]
  },
  {
   "cell_type": "code",
   "execution_count": 18,
   "id": "39ea4064",
   "metadata": {},
   "outputs": [
    {
     "name": "stdout",
     "output_type": "stream",
     "text": [
      "Enter the first number: 0\n",
      "Enter the second number: 3\n",
      "Sum: 0 + 3 = 3\n",
      "Quotient: 0 / 3 = 0.0\n",
      "Integer Quotient: 0 // 3 = 0\n",
      "Remainder: 0 % 3 = 0\n",
      "Power: 0 ^ 3 = 0\n"
     ]
    }
   ],
   "source": [
    "#HW-3: Take 2 numbers and print the sum, quo, int_quo, remainder, power. Note: input is dynamic.\n",
    "## might fail when num is 0?\n",
    "num1 = input(\"Enter the first number: \")\n",
    "num1 = int(num1)\n",
    "\n",
    "num2 = input(\"Enter the second number: \")\n",
    "num2 = int(num2)\n",
    "\n",
    "# sum\n",
    "sum_result = num1 + num2\n",
    "print(f\"Sum: {num1} + {num2} = {sum_result}\")\n",
    "\n",
    "# quotient\n",
    "quotient = num1 / num2\n",
    "print(f\"Quotient: {num1} / {num2} = {quotient}\")\n",
    "\n",
    "#integer quotient\n",
    "int_quotient = num1 // num2\n",
    "print(f\"Integer Quotient: {num1} // {num2} = {int_quotient}\")\n",
    "\n",
    "# remainder\n",
    "remainder = num1 % num2\n",
    "print(f\"Remainder: {num1} % {num2} = {remainder}\")\n",
    "\n",
    "# power\n",
    "power = num1 ** num2\n",
    "print(f\"Power: {num1} ^ {num2} = {power}\")"
   ]
  },
  {
   "cell_type": "code",
   "execution_count": null,
   "id": "b125567d",
   "metadata": {},
   "outputs": [],
   "source": []
  },
  {
   "cell_type": "code",
   "execution_count": null,
   "id": "5ffe4de5",
   "metadata": {},
   "outputs": [],
   "source": []
  }
 ],
 "metadata": {
  "kernelspec": {
   "display_name": "Python 3 (ipykernel)",
   "language": "python",
   "name": "python3"
  },
  "language_info": {
   "codemirror_mode": {
    "name": "ipython",
    "version": 3
   },
   "file_extension": ".py",
   "mimetype": "text/x-python",
   "name": "python",
   "nbconvert_exporter": "python",
   "pygments_lexer": "ipython3",
   "version": "3.11.7"
  }
 },
 "nbformat": 4,
 "nbformat_minor": 5
}
